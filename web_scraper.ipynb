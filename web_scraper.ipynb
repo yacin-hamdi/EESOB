{
  "nbformat": 4,
  "nbformat_minor": 0,
  "metadata": {
    "colab": {
      "provenance": []
    },
    "kernelspec": {
      "name": "python3",
      "display_name": "Python 3"
    },
    "language_info": {
      "name": "python"
    }
  },
  "cells": [
    {
      "cell_type": "markdown",
      "source": [
        "# scraping projecthub.arduino.cc"
      ],
      "metadata": {
        "id": "m8sx6ZCrFTwY"
      }
    },
    {
      "cell_type": "code",
      "execution_count": 1,
      "metadata": {
        "id": "jiZJRAErEnjd"
      },
      "outputs": [],
      "source": [
        "link = \"https://projecthub-api.arduino.cc/api/v1/projects/?category=&difficulty=&name=&ordering=trending&page=1&page_size=60&tag=&type=\""
      ]
    },
    {
      "cell_type": "code",
      "source": [
        "from bs4 import BeautifulSoup\n",
        "from tqdm import tqdm\n",
        "import requests\n",
        "import os\n",
        "import json"
      ],
      "metadata": {
        "id": "AMQhDE0pE-PB"
      },
      "execution_count": 13,
      "outputs": []
    },
    {
      "cell_type": "markdown",
      "source": [
        "## Get projects link"
      ],
      "metadata": {
        "id": "TjVBBQ2oI9jS"
      }
    },
    {
      "cell_type": "code",
      "source": [
        "### Define a function that return project page inside the link\n",
        "def get_projects_link(page_num,\n",
        "              page_size=100):\n",
        "  link = f\"https://projecthub-api.arduino.cc/api/v1/projects/?category=&difficulty=&name=&ordering=trending&page={page_num}&page_size={page_size}&tag=&type=\"\n",
        "\n",
        "  # Get the html page\n",
        "  html = requests.get(link)\n",
        "  # parse it\n",
        "  soup = BeautifulSoup(html.content, \"html.parser\")\n",
        "\n",
        "  # turn it in to json\n",
        "  data = json.loads((soup).text)\n",
        "\n",
        "  data_content = data[\"data\"][\"results\"]\n",
        "\n",
        "  domain = \"https://projecthub.arduino.cc/\"\n",
        "  sub_links = []\n",
        "  count = 0\n",
        "  for i in range(len(data_content)):\n",
        "    # Get the username\n",
        "    username = data_content[i][\"posted_by\"]\n",
        "    if username is not None:\n",
        "      count +=1\n",
        "      username = username[\"username\"]\n",
        "    else:\n",
        "      continue\n",
        "    # print(i,data_content[i])\n",
        "\n",
        "    # Get the slug\n",
        "    slug = data_content[i]['slug']\n",
        "\n",
        "    # Build the link\n",
        "    sub_link = domain + username + \"/\" + slug\n",
        "    sub_links.append(sub_link)\n",
        "  print(count)\n",
        "  return sub_links"
      ],
      "metadata": {
        "id": "XWufFkcYFAMr"
      },
      "execution_count": 5,
      "outputs": []
    },
    {
      "cell_type": "code",
      "source": [
        "sub_links = get_projects_link(page_num=1,\n",
        "                              page_size=60)\n",
        "sub_links[:10]"
      ],
      "metadata": {
        "colab": {
          "base_uri": "https://localhost:8080/"
        },
        "id": "VHH4RVRXFjxT",
        "outputId": "0c575b0e-0d0f-4459-9505-6c91e5282c18"
      },
      "execution_count": 7,
      "outputs": [
        {
          "output_type": "stream",
          "name": "stdout",
          "text": [
            "60\n"
          ]
        },
        {
          "output_type": "execute_result",
          "data": {
            "text/plain": [
              "['https://projecthub.arduino.cc/rebos/airfuel-controller-for-lpg-engines-fa17bd',\n",
              " 'https://projecthub.arduino.cc/me_rk/diy-automatic-plant-watering-system-no-microcontroller-needed-ad1e54',\n",
              " 'https://projecthub.arduino.cc/Aswinth/soil-moisture-sensor-with-arduino-91c818',\n",
              " 'https://projecthub.arduino.cc/AndreaRichetta/low-power-library-for-arduino-c33-6a7c6a',\n",
              " 'https://projecthub.arduino.cc/petros_mpla/helios-cube-80a316',\n",
              " 'https://projecthub.arduino.cc/metehocax/arduino-plug-and-make-kit-all-modulino-demo-99ad53',\n",
              " 'https://projecthub.arduino.cc/lucasfernando/ultrasonic-sensor-with-arduino-complete-guide-284faf',\n",
              " 'https://projecthub.arduino.cc/mad_mcu/how-to-play-rock-paper-scissor-with-a-time-of-flight-sensor-3d27ec',\n",
              " 'https://projecthub.arduino.cc/lee_curiosity/a-beginners-guide-controlling-an-arduino-car-with-a-remote-5d4418',\n",
              " 'https://projecthub.arduino.cc/angadiameya007/bluetooth-controlled-car-with-hc-05-module-e90493']"
            ]
          },
          "metadata": {},
          "execution_count": 7
        }
      ]
    },
    {
      "cell_type": "markdown",
      "source": [
        "## Get all images link and save them to a file"
      ],
      "metadata": {
        "id": "LclnW-zbJEUt"
      }
    },
    {
      "cell_type": "code",
      "source": [
        "def get_image_urls_from_page(link):\n",
        "  html = requests.get(link)\n",
        "  soup = BeautifulSoup(html.content, \"html.parser\")\n",
        "\n",
        "  data = json.loads(soup.find(\"script\", attrs={'id':\"__NEXT_DATA__\"}).text)\n",
        "\n",
        "  image_urls = []\n",
        "\n",
        "  data = data[\"props\"][\"pageProps\"][\"data\"]\n",
        "\n",
        "  if data[\"project_description\"] != None:\n",
        "    s = BeautifulSoup(data[\"project_description\"], \"html.parser\")\n",
        "\n",
        "    imgs = s.find_all('img')\n",
        "\n",
        "    if len(imgs) > 0:\n",
        "      for item in s.find_all(\"img\"):\n",
        "        if \".blob\" not in item['src'] and \".gif\" not in item['src']:\n",
        "          image_urls.append(item['src'])\n",
        "\n",
        "    elif len(data[\"attachments\"]) > 0:\n",
        "      if \".blob\" not in data[\"attachments\"][0]['url'] and \".gif\" not in data[\"attachments\"][0]['url']:\n",
        "        image_urls.append(data[\"attachments\"][0]['url'])\n",
        "\n",
        "  elif len(data[\"attachments\"]) > 0:\n",
        "    if \".blob\" not in data[\"attachments\"][0]['url'] and \".gif\" not in data[\"attachments\"][0]['url']:\n",
        "      image_urls.append(data[\"attachments\"][0]['url'])\n",
        "\n",
        "\n",
        "  return image_urls"
      ],
      "metadata": {
        "id": "Oii-1ywPFru_"
      },
      "execution_count": 8,
      "outputs": []
    },
    {
      "cell_type": "code",
      "source": [
        "image_urls = []\n",
        "for link in sub_links:\n",
        "  image_urls += get_image_urls_from_page(link)"
      ],
      "metadata": {
        "id": "_W5dh5tNGBpI"
      },
      "execution_count": 9,
      "outputs": []
    },
    {
      "cell_type": "code",
      "source": [
        "image_urls[:10]"
      ],
      "metadata": {
        "colab": {
          "base_uri": "https://localhost:8080/"
        },
        "id": "UlcX0llJGF2v",
        "outputId": "ccd99872-af0f-4b90-cb70-a61dce827228"
      },
      "execution_count": 10,
      "outputs": [
        {
          "output_type": "execute_result",
          "data": {
            "text/plain": [
              "['https://projects.arduinocontent.cc/c1aed6af-2ead-406b-a415-406478af75e9.jpg',\n",
              " 'https://projects.arduinocontent.cc/21317194-5a96-46a1-9eba-fd9e3c68884d.jpg',\n",
              " 'https://projects.arduinocontent.cc/8d831dad-f49c-444b-95b7-9fde29d99d66.jpg',\n",
              " 'https://projects.arduinocontent.cc/810c52aa-5ea2-4e09-80cb-483b416fb71e.jpg',\n",
              " 'https://projects.arduinocontent.cc/246c7991-9d1a-4c21-afe7-32c88a8ffe52.jpg',\n",
              " 'https://projects.arduinocontent.cc/ba95fd76-828a-4e45-a59e-6dac0a1112bb.jpg',\n",
              " 'https://circuitdigest.com/sites/default/files/inlineimages/u5/circuit-diagram-of-plant-watering.jpg',\n",
              " 'https://circuitdigest.com/sites/default/files/inlineimages/u5/components-of-plant-watering.jpg',\n",
              " 'https://circuitdigest.com/sites/default/files/inlineimages/u5/plant-watering-setup.jpg',\n",
              " 'https://circuitdigest.com/sites/default/files/inlineimages/u4/Soil-Moisture-Sensor-Pinout.png']"
            ]
          },
          "metadata": {},
          "execution_count": 10
        }
      ]
    },
    {
      "cell_type": "code",
      "source": [
        "from tqdm import tqdm\n",
        "\n",
        "\n",
        "number_of_pages = 55\n",
        "page_size = 100\n",
        "links = []\n",
        "for num in tqdm(range(number_of_pages)):\n",
        "  links += get_projects_link(page_num=num+1,\n",
        "                            page_size=page_size)"
      ],
      "metadata": {
        "id": "QdXpDaufGXYo"
      },
      "execution_count": null,
      "outputs": []
    },
    {
      "cell_type": "code",
      "source": [
        "def save_lines(filename,\n",
        "              lines,\n",
        "              mode='w'):\n",
        "  with open(filename, mode) as f:\n",
        "    for line in lines:\n",
        "      f.write(line+\"\\n\")\n",
        "    f.close()\n",
        "\n",
        "def get_lines(filename):\n",
        "  with open(filename, 'r') as f:\n",
        "    return f.readlines()"
      ],
      "metadata": {
        "id": "YNeP1zT2HFpu"
      },
      "execution_count": 11,
      "outputs": []
    },
    {
      "cell_type": "code",
      "source": [
        "for link_num in tqdm(range(0, len(links))):\n",
        "  link = get_image_urls_from_page(links[link_num].strip())\n",
        "  save_lines(filename=\"/content/drive/MyDrive/scraping_arduino/image_links.txt\",\n",
        "             lines=link,\n",
        "             mode=\"a\")"
      ],
      "metadata": {
        "id": "R0xM8RnIGwEy"
      },
      "execution_count": null,
      "outputs": []
    },
    {
      "cell_type": "code",
      "source": [
        "image_urls = get_lines(\"/content/drive/MyDrive/scraping_arduino/image_links.txt\")"
      ],
      "metadata": {
        "id": "M-FT8LwRHR0z"
      },
      "execution_count": null,
      "outputs": []
    },
    {
      "cell_type": "markdown",
      "source": [
        "## Download images"
      ],
      "metadata": {
        "id": "dlUQFLwWIGZW"
      }
    },
    {
      "cell_type": "code",
      "source": [
        "dir = \"/content/images/\"\n",
        "count = 0\n",
        "\n",
        "for i, url in tqdm(enumerate(image_urls)):\n",
        "  url = url.strip()\n",
        "  count += 1\n",
        "  if url == \"/\":\n",
        "    continue\n",
        "\n",
        "\n",
        "  _, image_extension = os.path.splitext(url)\n",
        "  image = requests.get(url)\n",
        "  image_path = dir+str(count)+image_extension\n",
        "\n",
        "  with open(image_path, \"wb\") as f:\n",
        "    f.write(image.content)\n",
        "    f.close()\n",
        "\n",
        ""
      ],
      "metadata": {
        "colab": {
          "base_uri": "https://localhost:8080/"
        },
        "id": "cHPoKmaIHhLN",
        "outputId": "27e55637-d470-4c94-ecf3-836b55e10275"
      },
      "execution_count": 15,
      "outputs": [
        {
          "output_type": "stream",
          "name": "stderr",
          "text": [
            "281it [00:35,  7.90it/s]\n"
          ]
        }
      ]
    },
    {
      "cell_type": "code",
      "source": [],
      "metadata": {
        "id": "X_WQUkxpInML"
      },
      "execution_count": null,
      "outputs": []
    }
  ]
}